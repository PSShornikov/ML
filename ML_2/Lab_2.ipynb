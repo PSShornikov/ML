{
 "cells": [
  {
   "cell_type": "markdown",
   "metadata": {},
   "source": [
    "# Лабораторная работа 2"
   ]
  },
  {
   "cell_type": "markdown",
   "metadata": {},
   "source": [
    "В этой лабораторной работе необхадимо сделать свой реализацию алгоритмов машинного обучения, и сравнить её с реализацией на sklearn для 2 датасетов, полученных в предыдущей лабораторной работе."
   ]
  },
  {
   "cell_type": "code",
   "execution_count": 2,
   "metadata": {},
   "outputs": [],
   "source": [
    "import pandas\n",
    "import numpy as np\n",
    "from sklearn.metrics import precision_score, recall_score, accuracy_score\n",
    "from sklearn.model_selection import StratifiedKFold\n",
    "from sklearn.utils import check_random_state\n",
    "from sklearn import preprocessing\n",
    "from sklearn.model_selection import train_test_split\n",
    "from sklearn.linear_model import LogisticRegression\n",
    "from sklearn.neighbors import KNeighborsClassifier\n",
    "from sklearn.tree import DecisionTreeClassifier\n",
    "from sklearn.ensemble import RandomForestClassifier\n",
    "from sklearn.svm import SVC\n",
    "import time\n",
    "import warnings\n",
    "warnings.filterwarnings(\"ignore\")\n",
    "from collections import Counter\n",
    "import sys"
   ]
  },
  {
   "cell_type": "markdown",
   "metadata": {},
   "source": [
    "Заготавливаем функцию, которая будет отвечать за обучение, тестирование, подсчёт точности и др"
   ]
  },
  {
   "cell_type": "code",
   "execution_count": 10,
   "metadata": {},
   "outputs": [],
   "source": [
    "def DisplayMetrics(Method, X, Y, folds = 5, average = 'macro'):\n",
    "  kf = StratifiedKFold(n_splits = folds, random_state = 128, shuffle = True)\n",
    "  precision = np.zeros(folds)   \n",
    "  recall = np.zeros(folds)  \n",
    "  testAc = np.zeros(folds)\n",
    "  trainAc = np.zeros(folds)\n",
    "  X=X.astype(np.float32)\n",
    "  for step, (trainI, valI) in enumerate(kf.split(X, Y)):\n",
    "    TrX, TrY = X.loc[trainI].to_numpy(), Y.loc[trainI].to_numpy()\n",
    "    ValX, ValY = X.loc[valI].to_numpy(), Y.loc[valI].to_numpy()\n",
    "    Method.fit(TrX, TrY)\n",
    "    PredY = Method.predict(ValX)\n",
    "    PredTrY = Method.predict(TrX)\n",
    "    precision[step] = precision_score(ValY, PredY, average = average)\n",
    "    recall[step] = recall_score(ValY, PredY, average = average)\n",
    "    trainAc[step] = accuracy_score(TrY, PredTrY)\n",
    "    testAc[step] = accuracy_score(ValY, PredY)\n",
    "  print(\"precision:\", precision.mean())\n",
    "  print(\"recall:\", recall.mean())\n",
    "  print(\"train_accuracy:\", trainAc.mean())\n",
    "  print(\"test_accuracy:\", testAc.mean())"
   ]
  },
  {
   "cell_type": "markdown",
   "metadata": {},
   "source": [
    "# Реализация своими руками"
   ]
  },
  {
   "cell_type": "markdown",
   "metadata": {},
   "source": [
    "Логистическая регрессия"
   ]
  },
  {
   "cell_type": "code",
   "execution_count": 11,
   "metadata": {},
   "outputs": [],
   "source": [
    "class LogReg():\n",
    "    def __init__(self, learning_rate = 0.01, grad_iters=100):\n",
    "        self.lr = learning_rate\n",
    "        self.gi = grad_iters\n",
    "\n",
    "    def __sigmoid(self, x):\n",
    "        return 1.0 / (1.0 + np.e ** (-x))\n",
    "\n",
    "    def __loss(self, h, y):\n",
    "        return (-y * np.log(h) - (1 - y) * np.log(1 - h)).mean()\n",
    "\n",
    "    def __add_intercept(self, X):\n",
    "        return np.concatenate((np.ones((X.shape[0], 1)), X), axis=1)\n",
    "\n",
    "    def fit(self, X, y):\n",
    "        #print(X.dtype)\n",
    "        X = self.__add_intercept(X)\n",
    "        self.w = np.zeros(X.shape[1])\n",
    "\n",
    "        for _ in range(self.gi):\n",
    "            h = self.__sigmoid(np.dot(X, self.w))\n",
    "            g = np.dot(X.T, (h - y)) / y.size\n",
    "            self.w -=  (self.lr * g).astype(np.float64)\n",
    "        pass\n",
    "\n",
    "    def __predict_probability(self, X):\n",
    "        X = self.__add_intercept(X)\n",
    "        return self.__sigmoid(np.dot(X, self.w))\n",
    "\n",
    "    def predict(self, X, threshold=0.5):\n",
    "        return self.__predict_probability(X) >= threshold"
   ]
  },
  {
   "cell_type": "markdown",
   "metadata": {},
   "source": [
    "KNN"
   ]
  },
  {
   "cell_type": "code",
   "execution_count": 12,
   "metadata": {},
   "outputs": [],
   "source": [
    "class KNN():\n",
    "    def __init__(self, neighbors=5):\n",
    "        self.nn = neighbors\n",
    "        self.breakraiser = 0\n",
    "    \n",
    "    def fit(self, X, y):\n",
    "        self.X = X\n",
    "        self.y = y.reshape((y.shape[0], 1))\n",
    "\n",
    "    def __get_distances(self, p):\n",
    "        t = (self.X - p)\n",
    "        return np.sqrt((t**2).sum(1))\n",
    "\n",
    "    def predict(self, X):\n",
    "        n = X.shape[0]\n",
    "        y_pred = np.zeros(n)\n",
    "        y_sorted = np.zeros(self.nn)\n",
    "        countF=0\n",
    "        for i in range(n):\n",
    "            d = self.__get_distances(X[i])\n",
    "            for it,val in enumerate(np.argpartition(d, self.nn)[:self.nn]):\n",
    "                y_sorted[it]=self.y[val]\n",
    "            y_pred[i] = Counter(y_sorted).most_common(1)[0][0]\n",
    "        return y_pred"
   ]
  },
  {
   "cell_type": "markdown",
   "metadata": {},
   "source": [
    "Дерево решений"
   ]
  },
  {
   "cell_type": "code",
   "execution_count": 13,
   "metadata": {},
   "outputs": [],
   "source": [
    "class Node():\n",
    "  def __init__(self, predType):\n",
    "    self.predType = predType\n",
    "    self.iFeature = 0\n",
    "    self.border = 0\n",
    "    self.left = None\n",
    "    self.right = None\n",
    "\n",
    "class DecisionTree():\n",
    "  def __init__(self, mDepth = 1, rf = False):\n",
    "    self.mDepth = mDepth\n",
    "    self.rf = rf\n",
    "\n",
    "  def fit(self, X, y, maxFeatures = None):\n",
    "    self.sizeY = len(set(y))\n",
    "    self.setY  = set(y)\n",
    "    self.dictY = {t:i for i,t in enumerate(self.setY)}\n",
    "    #print(self.dictY)\n",
    "    if not self.rf:\n",
    "      Features = X.shape[1]\n",
    "    else:\n",
    "      ind = np.random.choice(X.shape[0], X.shape[0])\n",
    "      X, y = X[tuple([ind])], y[tuple([ind])]\n",
    "      if maxFeatures is None:\n",
    "        Features = np.sqrt(X.shape[1]).astype(int)\n",
    "      else:\n",
    "        Features = maxFeatures\n",
    "    self.features = np.sort(np.random.choice(X.shape[1], Features, replace = False))\n",
    "    self.tree = self.UpdateTree(X, y)\n",
    "\n",
    "  def predict(self, X):\n",
    "    list = []\n",
    "    for inputs in X:\n",
    "      node = self.tree\n",
    "      while node.left:\n",
    "        if inputs[node.iFeature] < node.border:\n",
    "          node = node.left\n",
    "        else:\n",
    "          node = node.right\n",
    "      list.append(node.predType)\n",
    "    return list\n",
    "\n",
    "  def Split(self, X, y):\n",
    "    m = y.size    \n",
    "    if m <= 1:\n",
    "      return None, None\n",
    "    parent = [np.sum(y == c) for c in self.setY]\n",
    "    bGini = 1.0 - sum((n / m) ** 2 for n in parent)\n",
    "    bIdx, bThr = None, None\n",
    "    dic=self.dictY\n",
    "    for idx in self.features:\n",
    "      borders, types = zip(*sorted(zip(X[:, idx], y)))\n",
    "      left = [0] * self.sizeY\n",
    "      right = parent.copy()\n",
    "      for i in range(1, m):\n",
    "        c = types[i - 1]\n",
    "        #print(c)\n",
    "        right[dic[c]] -= 1\n",
    "        left[dic[c]] += 1\n",
    "        giniLeft = 1.0 - sum((left[dic[x]] / i) ** 2 for x in self.setY)\n",
    "        giniRight = 1.0 - sum((right[dic[x]] / (m - i)) ** 2 for x in self.setY)\n",
    "        gini = (i * giniLeft + (m - i) * giniRight) / m\n",
    "        if borders[i] == borders[i - 1]:\n",
    "          continue\n",
    "        if gini < bGini:\n",
    "          bGini = gini\n",
    "          bIdx = idx\n",
    "          bThr = (borders[i] + borders[i - 1]) / 2\n",
    "    return bIdx, bThr\n",
    "\n",
    "  def UpdateTree(self, X, y, depth = 0):\n",
    "    sPerClass = [np.sum(y == i) for i in self.setY]\n",
    "    predType = np.argmax(sPerClass)\n",
    "    node = Node(predType = predType)\n",
    "    if depth < self.mDepth:      \n",
    "      idx, thr = self.Split(X, y)\n",
    "      if idx is not None:\n",
    "        Lidx = X[:, idx] < thr\n",
    "        lx, ly = X[Lidx], y[Lidx]\n",
    "        rx, ry = X[~Lidx], y[~Lidx]\n",
    "        node.iFeature = idx\n",
    "        node.border = thr\n",
    "        node.left = self.UpdateTree(lx, ly, depth + 1)\n",
    "        node.right = self.UpdateTree(rx, ry, depth + 1)\n",
    "    return node"
   ]
  },
  {
   "cell_type": "markdown",
   "metadata": {},
   "source": [
    "\n",
    "Случайный лес"
   ]
  },
  {
   "cell_type": "code",
   "execution_count": 14,
   "metadata": {},
   "outputs": [],
   "source": [
    "class RandomForest():\n",
    "    def __init__(self, max_depth=5, n_estimators=100, max_features=None):\n",
    "        self.max_depth = max_depth\n",
    "        self.max_features = max_features\n",
    "        self.n_estimators = n_estimators\n",
    "        self.forest = [None] * n_estimators\n",
    "\n",
    "    def fit(self, X, y):\n",
    "        for i in range(self.n_estimators):\n",
    "            self.forest[i] = DecisionTree(\n",
    "                self.max_depth, rf=True) \n",
    "            self.forest[i].fit(X, y)\n",
    "\n",
    "\n",
    "    def predict(self, X):\n",
    "        most_common = np.zeros(X.shape[0])\n",
    "        preds = np.zeros((self.n_estimators, X.shape[0]))\n",
    "        for i in range(self.n_estimators):\n",
    "            preds[i] = self.forest[i].predict(X)\n",
    "        for i in range(len(most_common)):\n",
    "            most_common[i] = Counter(preds[:, i]).most_common(1)[0][0]\n",
    "        return most_common.astype(int)"
   ]
  },
  {
   "cell_type": "markdown",
   "metadata": {},
   "source": [
    "# Первый датасет - Flats"
   ]
  },
  {
   "cell_type": "markdown",
   "metadata": {},
   "source": [
    "Для этого датасета мы попробуем определить, будет ли квартира стоить больше 50 единиц."
   ]
  },
  {
   "cell_type": "code",
   "execution_count": 31,
   "metadata": {},
   "outputs": [
    {
     "data": {
      "text/html": [
       "<div>\n",
       "<style scoped>\n",
       "    .dataframe tbody tr th:only-of-type {\n",
       "        vertical-align: middle;\n",
       "    }\n",
       "\n",
       "    .dataframe tbody tr th {\n",
       "        vertical-align: top;\n",
       "    }\n",
       "\n",
       "    .dataframe thead th {\n",
       "        text-align: right;\n",
       "    }\n",
       "</style>\n",
       "<table border=\"1\" class=\"dataframe\">\n",
       "  <thead>\n",
       "    <tr style=\"text-align: right;\">\n",
       "      <th></th>\n",
       "      <th>Unnamed: 0</th>\n",
       "      <th>totsp</th>\n",
       "      <th>livesp</th>\n",
       "      <th>kitsp</th>\n",
       "      <th>dist</th>\n",
       "      <th>metrdist</th>\n",
       "      <th>walk</th>\n",
       "      <th>brick</th>\n",
       "      <th>floor</th>\n",
       "      <th>code</th>\n",
       "    </tr>\n",
       "  </thead>\n",
       "  <tbody>\n",
       "    <tr>\n",
       "      <th>0</th>\n",
       "      <td>1</td>\n",
       "      <td>58</td>\n",
       "      <td>40</td>\n",
       "      <td>6.0</td>\n",
       "      <td>12.5</td>\n",
       "      <td>7</td>\n",
       "      <td>1</td>\n",
       "      <td>1</td>\n",
       "      <td>1</td>\n",
       "      <td>3</td>\n",
       "    </tr>\n",
       "    <tr>\n",
       "      <th>1</th>\n",
       "      <td>2</td>\n",
       "      <td>44</td>\n",
       "      <td>28</td>\n",
       "      <td>6.0</td>\n",
       "      <td>13.5</td>\n",
       "      <td>7</td>\n",
       "      <td>1</td>\n",
       "      <td>0</td>\n",
       "      <td>1</td>\n",
       "      <td>6</td>\n",
       "    </tr>\n",
       "    <tr>\n",
       "      <th>2</th>\n",
       "      <td>3</td>\n",
       "      <td>70</td>\n",
       "      <td>42</td>\n",
       "      <td>6.0</td>\n",
       "      <td>14.5</td>\n",
       "      <td>3</td>\n",
       "      <td>1</td>\n",
       "      <td>1</td>\n",
       "      <td>1</td>\n",
       "      <td>3</td>\n",
       "    </tr>\n",
       "    <tr>\n",
       "      <th>3</th>\n",
       "      <td>4</td>\n",
       "      <td>61</td>\n",
       "      <td>37</td>\n",
       "      <td>6.0</td>\n",
       "      <td>13.5</td>\n",
       "      <td>7</td>\n",
       "      <td>1</td>\n",
       "      <td>0</td>\n",
       "      <td>1</td>\n",
       "      <td>1</td>\n",
       "    </tr>\n",
       "    <tr>\n",
       "      <th>4</th>\n",
       "      <td>5</td>\n",
       "      <td>104</td>\n",
       "      <td>60</td>\n",
       "      <td>11.0</td>\n",
       "      <td>10.5</td>\n",
       "      <td>7</td>\n",
       "      <td>0</td>\n",
       "      <td>1</td>\n",
       "      <td>1</td>\n",
       "      <td>3</td>\n",
       "    </tr>\n",
       "  </tbody>\n",
       "</table>\n",
       "</div>"
      ],
      "text/plain": [
       "   Unnamed: 0  totsp  livesp  kitsp  dist  metrdist  walk  brick  floor  code\n",
       "0           1     58      40    6.0  12.5         7     1      1      1     3\n",
       "1           2     44      28    6.0  13.5         7     1      0      1     6\n",
       "2           3     70      42    6.0  14.5         3     1      1      1     3\n",
       "3           4     61      37    6.0  13.5         7     1      0      1     1\n",
       "4           5    104      60   11.0  10.5         7     0      1      1     3"
      ]
     },
     "execution_count": 31,
     "metadata": {},
     "output_type": "execute_result"
    }
   ],
   "source": [
    "pr= pandas.read_csv(\"/Users/dmitry/AI_2/flats_moscow.csv\")\n",
    "required = list(pr)\n",
    "del required[required.index('price')]\n",
    "y = pr[\"price\"]//50\n",
    "x = pandas.get_dummies(pr[required])\n",
    "x.head()"
   ]
  },
  {
   "cell_type": "markdown",
   "metadata": {},
   "source": [
    "# Логистичкская регрессия"
   ]
  },
  {
   "cell_type": "markdown",
   "metadata": {},
   "source": [
    "sklearn"
   ]
  },
  {
   "cell_type": "code",
   "execution_count": 32,
   "metadata": {},
   "outputs": [
    {
     "name": "stdout",
     "output_type": "stream",
     "text": [
      "precision: 0.20628272876431578\n",
      "recall: 0.1725683569210668\n",
      "train_accuracy: 0.6194852941176471\n",
      "test_accuracy: 0.6215686274509804\n",
      "CPU times: user 874 ms, sys: 32.1 ms, total: 906 ms\n",
      "Wall time: 1.21 s\n"
     ]
    }
   ],
   "source": [
    "%%time\n",
    "DisplayMetrics(LogisticRegression(), x, y)"
   ]
  },
  {
   "cell_type": "markdown",
   "metadata": {},
   "source": [
    "своими руками"
   ]
  },
  {
   "cell_type": "code",
   "execution_count": 20,
   "metadata": {},
   "outputs": [
    {
     "name": "stdout",
     "output_type": "stream",
     "text": [
      "precision: 1.0\n",
      "recall: 1.0\n",
      "train_accuracy: 1.0\n",
      "test_accuracy: 1.0\n",
      "CPU times: user 161 ms, sys: 15.9 ms, total: 177 ms\n",
      "Wall time: 248 ms\n"
     ]
    }
   ],
   "source": [
    "%%time\n",
    "DisplayMetrics(LogReg(grad_iters=100), x, y)"
   ]
  },
  {
   "cell_type": "markdown",
   "metadata": {},
   "source": [
    "# KNN"
   ]
  },
  {
   "cell_type": "markdown",
   "metadata": {},
   "source": [
    "sklearn"
   ]
  },
  {
   "cell_type": "code",
   "execution_count": 22,
   "metadata": {},
   "outputs": [
    {
     "name": "stdout",
     "output_type": "stream",
     "text": [
      "precision: 1.0\n",
      "recall: 1.0\n",
      "train_accuracy: 1.0\n",
      "test_accuracy: 1.0\n",
      "CPU times: user 536 ms, sys: 9.73 ms, total: 545 ms\n",
      "Wall time: 652 ms\n"
     ]
    }
   ],
   "source": [
    "%%time\n",
    "DisplayMetrics(KNeighborsClassifier(n_neighbors=5), x, y)"
   ]
  },
  {
   "cell_type": "markdown",
   "metadata": {},
   "source": [
    "своими руками"
   ]
  },
  {
   "cell_type": "code",
   "execution_count": 23,
   "metadata": {},
   "outputs": [
    {
     "name": "stdout",
     "output_type": "stream",
     "text": [
      " precision: 1.0\n",
      "recall: 1.0\n",
      "train_accuracy: 1.0\n",
      "test_accuracy: 1.0\n",
      "CPU times: user 1.02 s, sys: 36.3 ms, total: 1.06 s\n",
      "Wall time: 1.38 s\n"
     ]
    }
   ],
   "source": [
    "%%time\n",
    "%prun KNN\n",
    "DisplayMetrics(KNN(neighbors = 3), x, y)"
   ]
  },
  {
   "cell_type": "markdown",
   "metadata": {},
   "source": [
    "# Дерево решений"
   ]
  },
  {
   "cell_type": "markdown",
   "metadata": {},
   "source": [
    "sklearn"
   ]
  },
  {
   "cell_type": "code",
   "execution_count": 24,
   "metadata": {
    "scrolled": true
   },
   "outputs": [
    {
     "name": "stdout",
     "output_type": "stream",
     "text": [
      "precision: 1.0\n",
      "recall: 1.0\n",
      "train_accuracy: 1.0\n",
      "test_accuracy: 1.0\n",
      "CPU times: user 38.4 ms, sys: 3.64 ms, total: 42 ms\n",
      "Wall time: 48.9 ms\n"
     ]
    }
   ],
   "source": [
    "%%time\n",
    "DisplayMetrics(DecisionTreeClassifier(max_depth=5), x, y)"
   ]
  },
  {
   "cell_type": "markdown",
   "metadata": {},
   "source": [
    "своими руками"
   ]
  },
  {
   "cell_type": "code",
   "execution_count": 25,
   "metadata": {},
   "outputs": [
    {
     "name": "stdout",
     "output_type": "stream",
     "text": [
      "precision: 1.0\n",
      "recall: 1.0\n",
      "train_accuracy: 1.0\n",
      "test_accuracy: 1.0\n",
      "CPU times: user 684 ms, sys: 26.5 ms, total: 711 ms\n",
      "Wall time: 890 ms\n"
     ]
    }
   ],
   "source": [
    "%%time\n",
    "DisplayMetrics(DecisionTree(mDepth = 4), x, y)"
   ]
  },
  {
   "cell_type": "markdown",
   "metadata": {},
   "source": [
    "# Случайный лес"
   ]
  },
  {
   "cell_type": "markdown",
   "metadata": {},
   "source": [
    "sklearn"
   ]
  },
  {
   "cell_type": "code",
   "execution_count": 26,
   "metadata": {},
   "outputs": [
    {
     "name": "stdout",
     "output_type": "stream",
     "text": [
      "precision: 1.0\n",
      "recall: 1.0\n",
      "train_accuracy: 1.0\n",
      "test_accuracy: 1.0\n",
      "CPU times: user 747 ms, sys: 17.9 ms, total: 765 ms\n",
      "Wall time: 1.01 s\n"
     ]
    }
   ],
   "source": [
    "%%time \n",
    "DisplayMetrics(RandomForestClassifier(n_estimators=50, max_depth=2), x, y)"
   ]
  },
  {
   "cell_type": "markdown",
   "metadata": {},
   "source": [
    "своими руками"
   ]
  },
  {
   "cell_type": "code",
   "execution_count": 27,
   "metadata": {},
   "outputs": [
    {
     "name": "stdout",
     "output_type": "stream",
     "text": [
      "precision: 1.0\n",
      "recall: 1.0\n",
      "train_accuracy: 1.0\n",
      "test_accuracy: 1.0\n",
      "CPU times: user 18.2 s, sys: 212 ms, total: 18.4 s\n",
      "Wall time: 19.7 s\n"
     ]
    }
   ],
   "source": [
    "%%time\n",
    "DisplayMetrics(RandomForest(), x, y)"
   ]
  },
  {
   "cell_type": "markdown",
   "metadata": {},
   "source": [
    "# Второй датасет"
   ]
  },
  {
   "cell_type": "code",
   "execution_count": 33,
   "metadata": {},
   "outputs": [
    {
     "data": {
      "text/html": [
       "<div>\n",
       "<style scoped>\n",
       "    .dataframe tbody tr th:only-of-type {\n",
       "        vertical-align: middle;\n",
       "    }\n",
       "\n",
       "    .dataframe tbody tr th {\n",
       "        vertical-align: top;\n",
       "    }\n",
       "\n",
       "    .dataframe thead th {\n",
       "        text-align: right;\n",
       "    }\n",
       "</style>\n",
       "<table border=\"1\" class=\"dataframe\">\n",
       "  <thead>\n",
       "    <tr style=\"text-align: right;\">\n",
       "      <th></th>\n",
       "      <th>year</th>\n",
       "      <th>kilometers</th>\n",
       "      <th>city_Al Riyadh</th>\n",
       "      <th>car_maker_BMW</th>\n",
       "      <th>car_maker_Cadillac</th>\n",
       "      <th>car_maker_Dodge</th>\n",
       "      <th>car_maker_Ford</th>\n",
       "      <th>car_maker_GMC</th>\n",
       "      <th>car_maker_Kia</th>\n",
       "      <th>car_maker_Mazda</th>\n",
       "      <th>...</th>\n",
       "      <th>color_Beige</th>\n",
       "      <th>color_Black</th>\n",
       "      <th>color_Brown</th>\n",
       "      <th>color_Green</th>\n",
       "      <th>color_Grey</th>\n",
       "      <th>color_Silver</th>\n",
       "      <th>color_White</th>\n",
       "      <th>pay_method_Cash Only</th>\n",
       "      <th>pay_method_Cash or Installments</th>\n",
       "      <th>pay_method_Installments Only</th>\n",
       "    </tr>\n",
       "  </thead>\n",
       "  <tbody>\n",
       "    <tr>\n",
       "      <th>0</th>\n",
       "      <td>2019</td>\n",
       "      <td>14999.5</td>\n",
       "      <td>1</td>\n",
       "      <td>0</td>\n",
       "      <td>0</td>\n",
       "      <td>0</td>\n",
       "      <td>0</td>\n",
       "      <td>0</td>\n",
       "      <td>0</td>\n",
       "      <td>0</td>\n",
       "      <td>...</td>\n",
       "      <td>0</td>\n",
       "      <td>0</td>\n",
       "      <td>0</td>\n",
       "      <td>0</td>\n",
       "      <td>0</td>\n",
       "      <td>0</td>\n",
       "      <td>1</td>\n",
       "      <td>0</td>\n",
       "      <td>1</td>\n",
       "      <td>0</td>\n",
       "    </tr>\n",
       "    <tr>\n",
       "      <th>1</th>\n",
       "      <td>2006</td>\n",
       "      <td>0.0</td>\n",
       "      <td>1</td>\n",
       "      <td>0</td>\n",
       "      <td>0</td>\n",
       "      <td>0</td>\n",
       "      <td>0</td>\n",
       "      <td>0</td>\n",
       "      <td>1</td>\n",
       "      <td>0</td>\n",
       "      <td>...</td>\n",
       "      <td>0</td>\n",
       "      <td>0</td>\n",
       "      <td>0</td>\n",
       "      <td>0</td>\n",
       "      <td>1</td>\n",
       "      <td>0</td>\n",
       "      <td>0</td>\n",
       "      <td>1</td>\n",
       "      <td>0</td>\n",
       "      <td>0</td>\n",
       "    </tr>\n",
       "    <tr>\n",
       "      <th>2</th>\n",
       "      <td>2014</td>\n",
       "      <td>24999.5</td>\n",
       "      <td>1</td>\n",
       "      <td>0</td>\n",
       "      <td>0</td>\n",
       "      <td>0</td>\n",
       "      <td>0</td>\n",
       "      <td>0</td>\n",
       "      <td>0</td>\n",
       "      <td>0</td>\n",
       "      <td>...</td>\n",
       "      <td>0</td>\n",
       "      <td>0</td>\n",
       "      <td>0</td>\n",
       "      <td>0</td>\n",
       "      <td>0</td>\n",
       "      <td>0</td>\n",
       "      <td>1</td>\n",
       "      <td>0</td>\n",
       "      <td>0</td>\n",
       "      <td>1</td>\n",
       "    </tr>\n",
       "    <tr>\n",
       "      <th>3</th>\n",
       "      <td>2010</td>\n",
       "      <td>200000.0</td>\n",
       "      <td>1</td>\n",
       "      <td>0</td>\n",
       "      <td>0</td>\n",
       "      <td>0</td>\n",
       "      <td>1</td>\n",
       "      <td>0</td>\n",
       "      <td>0</td>\n",
       "      <td>0</td>\n",
       "      <td>...</td>\n",
       "      <td>0</td>\n",
       "      <td>0</td>\n",
       "      <td>0</td>\n",
       "      <td>0</td>\n",
       "      <td>0</td>\n",
       "      <td>0</td>\n",
       "      <td>1</td>\n",
       "      <td>1</td>\n",
       "      <td>0</td>\n",
       "      <td>0</td>\n",
       "    </tr>\n",
       "    <tr>\n",
       "      <th>4</th>\n",
       "      <td>2018</td>\n",
       "      <td>5000.0</td>\n",
       "      <td>1</td>\n",
       "      <td>0</td>\n",
       "      <td>0</td>\n",
       "      <td>0</td>\n",
       "      <td>1</td>\n",
       "      <td>0</td>\n",
       "      <td>0</td>\n",
       "      <td>0</td>\n",
       "      <td>...</td>\n",
       "      <td>0</td>\n",
       "      <td>0</td>\n",
       "      <td>0</td>\n",
       "      <td>0</td>\n",
       "      <td>1</td>\n",
       "      <td>0</td>\n",
       "      <td>0</td>\n",
       "      <td>1</td>\n",
       "      <td>0</td>\n",
       "      <td>0</td>\n",
       "    </tr>\n",
       "  </tbody>\n",
       "</table>\n",
       "<p>5 rows × 54 columns</p>\n",
       "</div>"
      ],
      "text/plain": [
       "   year  kilometers  city_Al Riyadh  car_maker_BMW  car_maker_Cadillac  \\\n",
       "0  2019     14999.5               1              0                   0   \n",
       "1  2006         0.0               1              0                   0   \n",
       "2  2014     24999.5               1              0                   0   \n",
       "3  2010    200000.0               1              0                   0   \n",
       "4  2018      5000.0               1              0                   0   \n",
       "\n",
       "   car_maker_Dodge  car_maker_Ford  car_maker_GMC  car_maker_Kia  \\\n",
       "0                0               0              0              0   \n",
       "1                0               0              0              1   \n",
       "2                0               0              0              0   \n",
       "3                0               1              0              0   \n",
       "4                0               1              0              0   \n",
       "\n",
       "   car_maker_Mazda  ...  color_Beige  color_Black  color_Brown  color_Green  \\\n",
       "0                0  ...            0            0            0            0   \n",
       "1                0  ...            0            0            0            0   \n",
       "2                0  ...            0            0            0            0   \n",
       "3                0  ...            0            0            0            0   \n",
       "4                0  ...            0            0            0            0   \n",
       "\n",
       "   color_Grey  color_Silver  color_White  pay_method_Cash Only  \\\n",
       "0           0             0            1                     0   \n",
       "1           1             0            0                     1   \n",
       "2           0             0            1                     0   \n",
       "3           0             0            1                     1   \n",
       "4           1             0            0                     1   \n",
       "\n",
       "   pay_method_Cash or Installments  pay_method_Installments Only  \n",
       "0                                1                             0  \n",
       "1                                0                             0  \n",
       "2                                0                             1  \n",
       "3                                0                             0  \n",
       "4                                0                             0  \n",
       "\n",
       "[5 rows x 54 columns]"
      ]
     },
     "execution_count": 33,
     "metadata": {},
     "output_type": "execute_result"
    }
   ],
   "source": [
    "carpr= pandas.read_csv(\"/Users/dmitry/AI_2/carsclean.csv\")\n",
    "required = list(carpr)\n",
    "del required[required.index('price')]\n",
    "Y = carpr['price']//50000\n",
    "X = pandas.get_dummies(carpr[required])\n",
    "X.head()"
   ]
  },
  {
   "cell_type": "markdown",
   "metadata": {},
   "source": [
    "# Логистическая регрессия"
   ]
  },
  {
   "cell_type": "markdown",
   "metadata": {},
   "source": [
    "sklearn"
   ]
  },
  {
   "cell_type": "code",
   "execution_count": 42,
   "metadata": {},
   "outputs": [
    {
     "name": "stdout",
     "output_type": "stream",
     "text": [
      "precision: 0.3744085371992349\n",
      "recall: 0.4427380952380953\n",
      "train_accuracy: 0.75\n",
      "test_accuracy: 0.75\n",
      "CPU times: user 156 ms, sys: 3.92 ms, total: 160 ms\n",
      "Wall time: 166 ms\n"
     ]
    }
   ],
   "source": [
    "%%time\n",
    "DisplayMetrics(LogisticRegression(), X, Y)"
   ]
  },
  {
   "cell_type": "markdown",
   "metadata": {},
   "source": [
    "своими руками"
   ]
  },
  {
   "cell_type": "code",
   "execution_count": 43,
   "metadata": {},
   "outputs": [
    {
     "name": "stdout",
     "output_type": "stream",
     "text": [
      "precision: 0.31860041207949896\n",
      "recall: 0.3597619047619047\n",
      "train_accuracy: 0.6205357142857143\n",
      "test_accuracy: 0.625\n",
      "CPU times: user 93.3 ms, sys: 9.44 ms, total: 103 ms\n",
      "Wall time: 72.4 ms\n"
     ]
    }
   ],
   "source": [
    "%%time\n",
    "DisplayMetrics(LogReg(), X, Y)"
   ]
  },
  {
   "cell_type": "markdown",
   "metadata": {},
   "source": [
    "# KNN"
   ]
  },
  {
   "cell_type": "markdown",
   "metadata": {},
   "source": [
    "sklearn"
   ]
  },
  {
   "cell_type": "code",
   "execution_count": 44,
   "metadata": {},
   "outputs": [
    {
     "name": "stdout",
     "output_type": "stream",
     "text": [
      "precision: 1.0\n",
      "recall: 1.0\n",
      "train_accuracy: 1.0\n",
      "test_accuracy: 1.0\n",
      "CPU times: user 169 ms, sys: 3.53 ms, total: 172 ms\n",
      "Wall time: 178 ms\n"
     ]
    }
   ],
   "source": [
    "%%time\n",
    "DisplayMetrics(KNeighborsClassifier(n_neighbors=5), X, Y)"
   ]
  },
  {
   "cell_type": "markdown",
   "metadata": {},
   "source": [
    "своими руками"
   ]
  },
  {
   "cell_type": "code",
   "execution_count": 45,
   "metadata": {},
   "outputs": [
    {
     "name": "stdout",
     "output_type": "stream",
     "text": [
      "precision: 1.0\n",
      "recall: 1.0\n",
      "train_accuracy: 1.0\n",
      "test_accuracy: 1.0\n",
      "CPU times: user 235 ms, sys: 6.45 ms, total: 242 ms\n",
      "Wall time: 250 ms\n"
     ]
    }
   ],
   "source": [
    "%%time\n",
    "DisplayMetrics(KNN(neighbors = 8), X, Y)"
   ]
  },
  {
   "cell_type": "markdown",
   "metadata": {},
   "source": [
    "# Дерево решений"
   ]
  },
  {
   "cell_type": "markdown",
   "metadata": {},
   "source": [
    "sklearn"
   ]
  },
  {
   "cell_type": "code",
   "execution_count": 46,
   "metadata": {},
   "outputs": [
    {
     "name": "stdout",
     "output_type": "stream",
     "text": [
      "precision: 1.0\n",
      "recall: 1.0\n",
      "train_accuracy: 1.0\n",
      "test_accuracy: 1.0\n",
      "CPU times: user 38.3 ms, sys: 3.16 ms, total: 41.4 ms\n",
      "Wall time: 43.8 ms\n"
     ]
    }
   ],
   "source": [
    "%%time\n",
    "DisplayMetrics(DecisionTreeClassifier(max_depth=15), X, Y)"
   ]
  },
  {
   "cell_type": "markdown",
   "metadata": {},
   "source": [
    "своими руками"
   ]
  },
  {
   "cell_type": "code",
   "execution_count": 47,
   "metadata": {},
   "outputs": [
    {
     "name": "stdout",
     "output_type": "stream",
     "text": [
      "precision: 0.5253172030919347\n",
      "recall: 0.5380952380952381\n",
      "train_accuracy: 0.8214285714285714\n",
      "test_accuracy: 0.8214285714285714\n",
      "CPU times: user 1.11 s, sys: 12.5 ms, total: 1.13 s\n",
      "Wall time: 1.26 s\n"
     ]
    }
   ],
   "source": [
    "%%time\n",
    "DisplayMetrics(DecisionTree(), X, Y)"
   ]
  },
  {
   "cell_type": "markdown",
   "metadata": {},
   "source": [
    "#  Случайны лес"
   ]
  },
  {
   "cell_type": "markdown",
   "metadata": {},
   "source": [
    "sklearn"
   ]
  },
  {
   "cell_type": "code",
   "execution_count": 34,
   "metadata": {},
   "outputs": [
    {
     "name": "stdout",
     "output_type": "stream",
     "text": [
      "precision: 0.671639560662117\n",
      "recall: 0.5547619047619048\n",
      "train_accuracy: 0.8352678571428573\n",
      "test_accuracy: 0.8375\n",
      "CPU times: user 610 ms, sys: 12.9 ms, total: 623 ms\n",
      "Wall time: 710 ms\n"
     ]
    }
   ],
   "source": [
    "%%time \n",
    "DisplayMetrics(RandomForestClassifier(n_estimators=50, max_depth=2), X, Y)\n"
   ]
  },
  {
   "cell_type": "markdown",
   "metadata": {},
   "source": [
    "своими руками"
   ]
  },
  {
   "cell_type": "code",
   "execution_count": 35,
   "metadata": {},
   "outputs": [
    {
     "name": "stdout",
     "output_type": "stream",
     "text": [
      "precision: 0.6946917173004129\n",
      "recall: 0.5864285714285715\n",
      "train_accuracy: 0.7839285714285714\n",
      "test_accuracy: 0.7928571428571429\n",
      "CPU times: user 806 ms, sys: 15.2 ms, total: 821 ms\n",
      "Wall time: 1.22 s\n"
     ]
    }
   ],
   "source": [
    "%%time\n",
    "DisplayMetrics(RandomForest(max_depth=2,n_estimators=2), X, Y)"
   ]
  },
  {
   "cell_type": "markdown",
   "metadata": {},
   "source": [
    "# Вывод"
   ]
  },
  {
   "cell_type": "markdown",
   "metadata": {},
   "source": [
    "Реализация своими руками сильно уступает в скорости реализации на sklearn. Причиной этому может быть как неоптимизированность моего кода(например привидения типа X к float32 дало прибавку в скорости в 8 раз), так и хорошая оптимизация кода sklearn. За исключением времени, все показатели оказалась на уровне с sklearn во всех случаях, кроме логистической регресии, вероятно я сильно накосячил в её реализации. \n",
    "\n",
    "Пожалуй главным выводом будет никогда не пользоваться реализацией своими руками, т.к. она очень медленная."
   ]
  }
 ],
 "metadata": {
  "kernelspec": {
   "display_name": "Python 3",
   "language": "python",
   "name": "python3"
  },
  "language_info": {
   "codemirror_mode": {
    "name": "ipython",
    "version": 3
   },
   "file_extension": ".py",
   "mimetype": "text/x-python",
   "name": "python",
   "nbconvert_exporter": "python",
   "pygments_lexer": "ipython3",
   "version": "3.8.5"
  }
 },
 "nbformat": 4,
 "nbformat_minor": 4
}
